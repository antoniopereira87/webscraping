{
 "cells": [
  {
   "cell_type": "code",
   "execution_count": 1,
   "metadata": {},
   "outputs": [],
   "source": [
    "import pandas as pd\n"
   ]
  },
  {
   "cell_type": "code",
   "execution_count": 67,
   "metadata": {},
   "outputs": [],
   "source": [
    "jogadores = pd.read_csv('jogadores.csv')\n",
    "partidas = pd.read_csv('partidas.csv')\n",
    "camisas = pd.read_csv('camisas.csv')"
   ]
  },
  {
   "cell_type": "code",
   "execution_count": 55,
   "metadata": {},
   "outputs": [
    {
     "data": {
      "text/plain": [
       "array(['Corinthians - SP', nan, 'Bahia - BA', 'Flamengo - RJ',\n",
       "       'Red Bull Bragantino - SP', 'America Saf - MG', 'Botafogo - RJ',\n",
       "       'Fluminense - RJ', 'Athletico Paranaense - PR', 'São Paulo - SP',\n",
       "       'Atlético Mineiro - MG', 'Internacional - RS', 'Cuiabá Saf - MT',\n",
       "       'Grêmio - RS', 'Goiás - GO', 'Santos - SP',\n",
       "       'Vasco da Gama S.a.f. - RJ', 'Tombense - MG', 'Fortaleza - CE',\n",
       "       'Atlético - GO', 'Palmeiras - SP', 'Cruzeiro Saf - MG',\n",
       "       'Coritiba S.a.f. - PR', 'Mirassol - SP', 'Londrina - PR',\n",
       "       'Ceará - CE', 'Avaí - SC', 'Sport - PE', 'Guarani - SP',\n",
       "       'Maringa Futebol Clube S.a.f. - PR', 'Abc - RN', 'Vila Nova - GO',\n",
       "       'Vitória - BA', 'Botafogo - SP', 'Chapecoense - SC',\n",
       "       'Aparecida Esporte Clube - GO', 'Sao Bernardo Fc - SP',\n",
       "       'Club Atletico Talleres - RJ', 'Paysandu - PA', 'Ituano - SP',\n",
       "       'Pouso Alegre - MG'], dtype=object)"
      ]
     },
     "execution_count": 55,
     "metadata": {},
     "output_type": "execute_result"
    }
   ],
   "source": [
    "jogadores['Clube'].unique()\n"
   ]
  },
  {
   "cell_type": "code",
   "execution_count": 57,
   "metadata": {},
   "outputs": [],
   "source": [
    "clubes_jogando = pd.concat((partidas['Mandante'], partidas['Visitante'])).unique()"
   ]
  },
  {
   "cell_type": "code",
   "execution_count": 60,
   "metadata": {},
   "outputs": [],
   "source": [
    "jogadores_jogando = jogadores[jogadores['Clube'].apply(lambda x: x in clubes_jogando)]"
   ]
  },
  {
   "cell_type": "code",
   "execution_count": 66,
   "metadata": {},
   "outputs": [
    {
     "data": {
      "text/plain": [
       "939"
      ]
     },
     "execution_count": 66,
     "metadata": {},
     "output_type": "execute_result"
    }
   ],
   "source": [
    "jogadores_jogando['Nome'].nunique()"
   ]
  },
  {
   "cell_type": "code",
   "execution_count": 76,
   "metadata": {},
   "outputs": [],
   "source": [
    "jogadores2 = camisas.drop_duplicates().join(jogadores_jogando.set_index(['Clube', 'Apelido']), on=['Clube', 'Apelido'], how='right')\n",
    "jogadores2.to_csv('jogadores2.csv',index=False)"
   ]
  }
 ],
 "metadata": {
  "kernelspec": {
   "display_name": "Python 3",
   "language": "python",
   "name": "python3"
  },
  "language_info": {
   "codemirror_mode": {
    "name": "ipython",
    "version": 3
   },
   "file_extension": ".py",
   "mimetype": "text/x-python",
   "name": "python",
   "nbconvert_exporter": "python",
   "pygments_lexer": "ipython3",
   "version": "3.10.4"
  }
 },
 "nbformat": 4,
 "nbformat_minor": 2
}
